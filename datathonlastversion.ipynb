{
 "cells": [
  {
   "cell_type": "code",
   "execution_count": 264,
   "id": "0dcaa494",
   "metadata": {},
   "outputs": [],
   "source": [
    "import pandas as pd\n",
    "import numpy as np\n",
    "import matplotlib.pyplot as plt"
   ]
  },
  {
   "cell_type": "code",
   "execution_count": 276,
   "id": "658ae01a",
   "metadata": {},
   "outputs": [],
   "source": [
    "df=pd.read_csv(\"Total Male and female voters per districts.csv\")"
   ]
  },
  {
   "cell_type": "code",
   "execution_count": 267,
   "id": "9a075436",
   "metadata": {},
   "outputs": [
    {
     "data": {
      "text/html": [
       "<div>\n",
       "<style scoped>\n",
       "    .dataframe tbody tr th:only-of-type {\n",
       "        vertical-align: middle;\n",
       "    }\n",
       "\n",
       "    .dataframe tbody tr th {\n",
       "        vertical-align: top;\n",
       "    }\n",
       "\n",
       "    .dataframe thead th {\n",
       "        text-align: right;\n",
       "    }\n",
       "</style>\n",
       "<table border=\"1\" class=\"dataframe\">\n",
       "  <thead>\n",
       "    <tr style=\"text-align: right;\">\n",
       "      <th></th>\n",
       "      <th>District</th>\n",
       "      <th>Male</th>\n",
       "      <th>Female</th>\n",
       "      <th>Third Gender</th>\n",
       "      <th>Total</th>\n",
       "    </tr>\n",
       "  </thead>\n",
       "  <tbody>\n",
       "    <tr>\n",
       "      <th>0</th>\n",
       "      <td>Achham</td>\n",
       "      <td>60441</td>\n",
       "      <td>67299</td>\n",
       "      <td>2</td>\n",
       "      <td>127742</td>\n",
       "    </tr>\n",
       "    <tr>\n",
       "      <th>1</th>\n",
       "      <td>Arghakhanchi</td>\n",
       "      <td>60296</td>\n",
       "      <td>66403</td>\n",
       "      <td>0</td>\n",
       "      <td>126699</td>\n",
       "    </tr>\n",
       "    <tr>\n",
       "      <th>2</th>\n",
       "      <td>Baglung</td>\n",
       "      <td>73963</td>\n",
       "      <td>82839</td>\n",
       "      <td>0</td>\n",
       "      <td>156802</td>\n",
       "    </tr>\n",
       "    <tr>\n",
       "      <th>3</th>\n",
       "      <td>Baitadi</td>\n",
       "      <td>60227</td>\n",
       "      <td>64596</td>\n",
       "      <td>1</td>\n",
       "      <td>124824</td>\n",
       "    </tr>\n",
       "    <tr>\n",
       "      <th>4</th>\n",
       "      <td>Bajhang</td>\n",
       "      <td>47888</td>\n",
       "      <td>49721</td>\n",
       "      <td>1</td>\n",
       "      <td>97610</td>\n",
       "    </tr>\n",
       "  </tbody>\n",
       "</table>\n",
       "</div>"
      ],
      "text/plain": [
       "       District   Male  Female  Third Gender   Total\n",
       "0        Achham  60441   67299             2  127742\n",
       "1  Arghakhanchi  60296   66403             0  126699\n",
       "2       Baglung  73963   82839             0  156802\n",
       "3       Baitadi  60227   64596             1  124824\n",
       "4       Bajhang  47888   49721             1   97610"
      ]
     },
     "execution_count": 267,
     "metadata": {},
     "output_type": "execute_result"
    }
   ],
   "source": [
    "df.head()"
   ]
  },
  {
   "cell_type": "code",
   "execution_count": 269,
   "id": "bbc0a7f4",
   "metadata": {},
   "outputs": [
    {
     "data": {
      "text/plain": [
       "District        0\n",
       "Male            0\n",
       "Female          0\n",
       "Third Gender    0\n",
       "Total           0\n",
       "dtype: int64"
      ]
     },
     "execution_count": 269,
     "metadata": {},
     "output_type": "execute_result"
    }
   ],
   "source": [
    "df.isna().sum()"
   ]
  },
  {
   "cell_type": "code",
   "execution_count": 270,
   "id": "5b7917bb",
   "metadata": {},
   "outputs": [
    {
     "data": {
      "text/html": [
       "<div>\n",
       "<style scoped>\n",
       "    .dataframe tbody tr th:only-of-type {\n",
       "        vertical-align: middle;\n",
       "    }\n",
       "\n",
       "    .dataframe tbody tr th {\n",
       "        vertical-align: top;\n",
       "    }\n",
       "\n",
       "    .dataframe thead th {\n",
       "        text-align: right;\n",
       "    }\n",
       "</style>\n",
       "<table border=\"1\" class=\"dataframe\">\n",
       "  <thead>\n",
       "    <tr style=\"text-align: right;\">\n",
       "      <th></th>\n",
       "      <th>District</th>\n",
       "      <th>Male</th>\n",
       "      <th>Female</th>\n",
       "      <th>Third Gender</th>\n",
       "      <th>Total</th>\n",
       "    </tr>\n",
       "  </thead>\n",
       "  <tbody>\n",
       "    <tr>\n",
       "      <th>24</th>\n",
       "      <td>Gulmi</td>\n",
       "      <td>0</td>\n",
       "      <td>94759</td>\n",
       "      <td>1</td>\n",
       "      <td>180775</td>\n",
       "    </tr>\n",
       "    <tr>\n",
       "      <th>44</th>\n",
       "      <td>Manang</td>\n",
       "      <td>2496</td>\n",
       "      <td>2599</td>\n",
       "      <td>0</td>\n",
       "      <td>5095</td>\n",
       "    </tr>\n",
       "    <tr>\n",
       "      <th>47</th>\n",
       "      <td>Mustang</td>\n",
       "      <td>4010</td>\n",
       "      <td>0</td>\n",
       "      <td>0</td>\n",
       "      <td>8263</td>\n",
       "    </tr>\n",
       "    <tr>\n",
       "      <th>21</th>\n",
       "      <td>Dolpa</td>\n",
       "      <td>8283</td>\n",
       "      <td>8420</td>\n",
       "      <td>0</td>\n",
       "      <td>16703</td>\n",
       "    </tr>\n",
       "    <tr>\n",
       "      <th>25</th>\n",
       "      <td>Humla</td>\n",
       "      <td>12696</td>\n",
       "      <td>11866</td>\n",
       "      <td>0</td>\n",
       "      <td>24562</td>\n",
       "    </tr>\n",
       "  </tbody>\n",
       "</table>\n",
       "</div>"
      ],
      "text/plain": [
       "   District   Male  Female  Third Gender   Total\n",
       "24    Gulmi      0   94759             1  180775\n",
       "44   Manang   2496    2599             0    5095\n",
       "47  Mustang   4010       0             0    8263\n",
       "21    Dolpa   8283    8420             0   16703\n",
       "25    Humla  12696   11866             0   24562"
      ]
     },
     "execution_count": 270,
     "metadata": {},
     "output_type": "execute_result"
    }
   ],
   "source": [
    "df.sort_values(by=[\"Male\"]).head()"
   ]
  },
  {
   "cell_type": "code",
   "execution_count": 271,
   "id": "10fec324",
   "metadata": {},
   "outputs": [
    {
     "data": {
      "text/html": [
       "<div>\n",
       "<style scoped>\n",
       "    .dataframe tbody tr th:only-of-type {\n",
       "        vertical-align: middle;\n",
       "    }\n",
       "\n",
       "    .dataframe tbody tr th {\n",
       "        vertical-align: top;\n",
       "    }\n",
       "\n",
       "    .dataframe thead th {\n",
       "        text-align: right;\n",
       "    }\n",
       "</style>\n",
       "<table border=\"1\" class=\"dataframe\">\n",
       "  <thead>\n",
       "    <tr style=\"text-align: right;\">\n",
       "      <th></th>\n",
       "      <th>District</th>\n",
       "      <th>Male</th>\n",
       "      <th>Female</th>\n",
       "      <th>Third Gender</th>\n",
       "      <th>Total</th>\n",
       "    </tr>\n",
       "  </thead>\n",
       "  <tbody>\n",
       "    <tr>\n",
       "      <th>47</th>\n",
       "      <td>Mustang</td>\n",
       "      <td>4010</td>\n",
       "      <td>0</td>\n",
       "      <td>0</td>\n",
       "      <td>8263</td>\n",
       "    </tr>\n",
       "    <tr>\n",
       "      <th>44</th>\n",
       "      <td>Manang</td>\n",
       "      <td>2496</td>\n",
       "      <td>2599</td>\n",
       "      <td>0</td>\n",
       "      <td>5095</td>\n",
       "    </tr>\n",
       "    <tr>\n",
       "      <th>21</th>\n",
       "      <td>Dolpa</td>\n",
       "      <td>8283</td>\n",
       "      <td>8420</td>\n",
       "      <td>0</td>\n",
       "      <td>16703</td>\n",
       "    </tr>\n",
       "    <tr>\n",
       "      <th>25</th>\n",
       "      <td>Humla</td>\n",
       "      <td>12696</td>\n",
       "      <td>11866</td>\n",
       "      <td>0</td>\n",
       "      <td>24562</td>\n",
       "    </tr>\n",
       "    <tr>\n",
       "      <th>46</th>\n",
       "      <td>Mugu</td>\n",
       "      <td>14375</td>\n",
       "      <td>13060</td>\n",
       "      <td>0</td>\n",
       "      <td>27435</td>\n",
       "    </tr>\n",
       "  </tbody>\n",
       "</table>\n",
       "</div>"
      ],
      "text/plain": [
       "   District   Male  Female  Third Gender  Total\n",
       "47  Mustang   4010       0             0   8263\n",
       "44   Manang   2496    2599             0   5095\n",
       "21    Dolpa   8283    8420             0  16703\n",
       "25    Humla  12696   11866             0  24562\n",
       "46     Mugu  14375   13060             0  27435"
      ]
     },
     "execution_count": 271,
     "metadata": {},
     "output_type": "execute_result"
    }
   ],
   "source": [
    "df.sort_values(by=[\"Female\"]).head()"
   ]
  },
  {
   "cell_type": "code",
   "execution_count": 272,
   "id": "77d69306",
   "metadata": {},
   "outputs": [
    {
     "data": {
      "text/html": [
       "<div>\n",
       "<style scoped>\n",
       "    .dataframe tbody tr th:only-of-type {\n",
       "        vertical-align: middle;\n",
       "    }\n",
       "\n",
       "    .dataframe tbody tr th {\n",
       "        vertical-align: top;\n",
       "    }\n",
       "\n",
       "    .dataframe thead th {\n",
       "        text-align: right;\n",
       "    }\n",
       "</style>\n",
       "<table border=\"1\" class=\"dataframe\">\n",
       "  <thead>\n",
       "    <tr style=\"text-align: right;\">\n",
       "      <th></th>\n",
       "      <th>Male</th>\n",
       "      <th>Female</th>\n",
       "      <th>Third Gender</th>\n",
       "    </tr>\n",
       "  </thead>\n",
       "  <tbody>\n",
       "    <tr>\n",
       "      <th>count</th>\n",
       "      <td>8.000000e+01</td>\n",
       "      <td>8.000000e+01</td>\n",
       "      <td>80.000000</td>\n",
       "    </tr>\n",
       "    <tr>\n",
       "      <th>mean</th>\n",
       "      <td>1.851372e+05</td>\n",
       "      <td>2.546872e+05</td>\n",
       "      <td>3.562500</td>\n",
       "    </tr>\n",
       "    <tr>\n",
       "      <th>std</th>\n",
       "      <td>7.849834e+05</td>\n",
       "      <td>8.991922e+05</td>\n",
       "      <td>16.160464</td>\n",
       "    </tr>\n",
       "    <tr>\n",
       "      <th>min</th>\n",
       "      <td>0.000000e+00</td>\n",
       "      <td>0.000000e+00</td>\n",
       "      <td>0.000000</td>\n",
       "    </tr>\n",
       "    <tr>\n",
       "      <th>25%</th>\n",
       "      <td>4.577675e+04</td>\n",
       "      <td>4.948575e+04</td>\n",
       "      <td>0.000000</td>\n",
       "    </tr>\n",
       "    <tr>\n",
       "      <th>50%</th>\n",
       "      <td>7.526500e+04</td>\n",
       "      <td>8.288850e+04</td>\n",
       "      <td>1.000000</td>\n",
       "    </tr>\n",
       "    <tr>\n",
       "      <th>75%</th>\n",
       "      <td>1.252198e+05</td>\n",
       "      <td>1.286485e+05</td>\n",
       "      <td>2.000000</td>\n",
       "    </tr>\n",
       "    <tr>\n",
       "      <th>max</th>\n",
       "      <td>7.069714e+06</td>\n",
       "      <td>6.984625e+06</td>\n",
       "      <td>143.000000</td>\n",
       "    </tr>\n",
       "  </tbody>\n",
       "</table>\n",
       "</div>"
      ],
      "text/plain": [
       "               Male        Female  Third Gender\n",
       "count  8.000000e+01  8.000000e+01     80.000000\n",
       "mean   1.851372e+05  2.546872e+05      3.562500\n",
       "std    7.849834e+05  8.991922e+05     16.160464\n",
       "min    0.000000e+00  0.000000e+00      0.000000\n",
       "25%    4.577675e+04  4.948575e+04      0.000000\n",
       "50%    7.526500e+04  8.288850e+04      1.000000\n",
       "75%    1.252198e+05  1.286485e+05      2.000000\n",
       "max    7.069714e+06  6.984625e+06    143.000000"
      ]
     },
     "execution_count": 272,
     "metadata": {},
     "output_type": "execute_result"
    }
   ],
   "source": [
    "df.describe()"
   ]
  },
  {
   "cell_type": "code",
   "execution_count": 273,
   "id": "6dc485a4",
   "metadata": {},
   "outputs": [
    {
     "name": "stderr",
     "output_type": "stream",
     "text": [
      "/tmp/ipykernel_8226/708290557.py:1: FutureWarning: In a future version of pandas all arguments of DataFrame.any and Series.any will be keyword-only.\n",
      "  df[df.eq(\"Jajarkot\").any(1)]\n"
     ]
    },
    {
     "data": {
      "text/html": [
       "<div>\n",
       "<style scoped>\n",
       "    .dataframe tbody tr th:only-of-type {\n",
       "        vertical-align: middle;\n",
       "    }\n",
       "\n",
       "    .dataframe tbody tr th {\n",
       "        vertical-align: top;\n",
       "    }\n",
       "\n",
       "    .dataframe thead th {\n",
       "        text-align: right;\n",
       "    }\n",
       "</style>\n",
       "<table border=\"1\" class=\"dataframe\">\n",
       "  <thead>\n",
       "    <tr style=\"text-align: right;\">\n",
       "      <th></th>\n",
       "      <th>District</th>\n",
       "      <th>Male</th>\n",
       "      <th>Female</th>\n",
       "      <th>Third Gender</th>\n",
       "      <th>Total</th>\n",
       "    </tr>\n",
       "  </thead>\n",
       "  <tbody>\n",
       "    <tr>\n",
       "      <th>27</th>\n",
       "      <td>Jajarkot</td>\n",
       "      <td>42410</td>\n",
       "      <td>36536</td>\n",
       "      <td>1</td>\n",
       "      <td>????</td>\n",
       "    </tr>\n",
       "    <tr>\n",
       "      <th>28</th>\n",
       "      <td>Jajarkot</td>\n",
       "      <td>42410</td>\n",
       "      <td>36536</td>\n",
       "      <td>1</td>\n",
       "      <td>????</td>\n",
       "    </tr>\n",
       "    <tr>\n",
       "      <th>29</th>\n",
       "      <td>Jajarkot</td>\n",
       "      <td>42410</td>\n",
       "      <td>36536</td>\n",
       "      <td>1</td>\n",
       "      <td>????</td>\n",
       "    </tr>\n",
       "  </tbody>\n",
       "</table>\n",
       "</div>"
      ],
      "text/plain": [
       "    District   Male  Female  Third Gender Total\n",
       "27  Jajarkot  42410   36536             1  ????\n",
       "28  Jajarkot  42410   36536             1  ????\n",
       "29  Jajarkot  42410   36536             1  ????"
      ]
     },
     "execution_count": 273,
     "metadata": {},
     "output_type": "execute_result"
    }
   ],
   "source": [
    "df[df.eq(\"Jajarkot\").any(1)]"
   ]
  },
  {
   "cell_type": "code",
   "execution_count": 277,
   "id": "a3b39a11",
   "metadata": {},
   "outputs": [],
   "source": [
    "df=df.drop([27,28])"
   ]
  },
  {
   "cell_type": "code",
   "execution_count": 279,
   "id": "ace38f06",
   "metadata": {},
   "outputs": [
    {
     "name": "stderr",
     "output_type": "stream",
     "text": [
      "/tmp/ipykernel_8226/708290557.py:1: FutureWarning: In a future version of pandas all arguments of DataFrame.any and Series.any will be keyword-only.\n",
      "  df[df.eq(\"Jajarkot\").any(1)]\n"
     ]
    },
    {
     "data": {
      "text/html": [
       "<div>\n",
       "<style scoped>\n",
       "    .dataframe tbody tr th:only-of-type {\n",
       "        vertical-align: middle;\n",
       "    }\n",
       "\n",
       "    .dataframe tbody tr th {\n",
       "        vertical-align: top;\n",
       "    }\n",
       "\n",
       "    .dataframe thead th {\n",
       "        text-align: right;\n",
       "    }\n",
       "</style>\n",
       "<table border=\"1\" class=\"dataframe\">\n",
       "  <thead>\n",
       "    <tr style=\"text-align: right;\">\n",
       "      <th></th>\n",
       "      <th>District</th>\n",
       "      <th>Male</th>\n",
       "      <th>Female</th>\n",
       "      <th>Third Gender</th>\n",
       "      <th>Total</th>\n",
       "    </tr>\n",
       "  </thead>\n",
       "  <tbody>\n",
       "    <tr>\n",
       "      <th>29</th>\n",
       "      <td>Jajarkot</td>\n",
       "      <td>42410</td>\n",
       "      <td>36536</td>\n",
       "      <td>1</td>\n",
       "      <td>????</td>\n",
       "    </tr>\n",
       "  </tbody>\n",
       "</table>\n",
       "</div>"
      ],
      "text/plain": [
       "    District   Male  Female  Third Gender Total\n",
       "29  Jajarkot  42410   36536             1  ????"
      ]
     },
     "execution_count": 279,
     "metadata": {},
     "output_type": "execute_result"
    }
   ],
   "source": [
    "df[df.eq(\"Jajarkot\").any(1)]"
   ]
  },
  {
   "cell_type": "code",
   "execution_count": 280,
   "id": "d2619be1",
   "metadata": {},
   "outputs": [],
   "source": [
    "df.loc[29]=[\"Jajarkot\",42410,36536,1,(42410+36536+1)]"
   ]
  },
  {
   "cell_type": "code",
   "execution_count": 281,
   "id": "4cf15b23",
   "metadata": {},
   "outputs": [
    {
     "data": {
      "text/plain": [
       "District        Jajarkot\n",
       "Male               42410\n",
       "Female             36536\n",
       "Third Gender           1\n",
       "Total              78947\n",
       "Name: 29, dtype: object"
      ]
     },
     "execution_count": 281,
     "metadata": {},
     "output_type": "execute_result"
    }
   ],
   "source": [
    "df.loc[29]"
   ]
  },
  {
   "cell_type": "code",
   "execution_count": 282,
   "id": "18bf390d",
   "metadata": {},
   "outputs": [
    {
     "data": {
      "text/html": [
       "<div>\n",
       "<style scoped>\n",
       "    .dataframe tbody tr th:only-of-type {\n",
       "        vertical-align: middle;\n",
       "    }\n",
       "\n",
       "    .dataframe tbody tr th {\n",
       "        vertical-align: top;\n",
       "    }\n",
       "\n",
       "    .dataframe thead th {\n",
       "        text-align: right;\n",
       "    }\n",
       "</style>\n",
       "<table border=\"1\" class=\"dataframe\">\n",
       "  <thead>\n",
       "    <tr style=\"text-align: right;\">\n",
       "      <th></th>\n",
       "      <th>District</th>\n",
       "      <th>Male</th>\n",
       "      <th>Female</th>\n",
       "      <th>Third Gender</th>\n",
       "      <th>Total</th>\n",
       "    </tr>\n",
       "  </thead>\n",
       "  <tbody>\n",
       "    <tr>\n",
       "      <th>47</th>\n",
       "      <td>Mustang</td>\n",
       "      <td>4010</td>\n",
       "      <td>0</td>\n",
       "      <td>0</td>\n",
       "      <td>8263</td>\n",
       "    </tr>\n",
       "    <tr>\n",
       "      <th>44</th>\n",
       "      <td>Manang</td>\n",
       "      <td>2496</td>\n",
       "      <td>2599</td>\n",
       "      <td>0</td>\n",
       "      <td>5095</td>\n",
       "    </tr>\n",
       "    <tr>\n",
       "      <th>21</th>\n",
       "      <td>Dolpa</td>\n",
       "      <td>8283</td>\n",
       "      <td>8420</td>\n",
       "      <td>0</td>\n",
       "      <td>16703</td>\n",
       "    </tr>\n",
       "    <tr>\n",
       "      <th>25</th>\n",
       "      <td>Humla</td>\n",
       "      <td>12696</td>\n",
       "      <td>11866</td>\n",
       "      <td>0</td>\n",
       "      <td>24562</td>\n",
       "    </tr>\n",
       "    <tr>\n",
       "      <th>46</th>\n",
       "      <td>Mugu</td>\n",
       "      <td>14375</td>\n",
       "      <td>13060</td>\n",
       "      <td>0</td>\n",
       "      <td>27435</td>\n",
       "    </tr>\n",
       "  </tbody>\n",
       "</table>\n",
       "</div>"
      ],
      "text/plain": [
       "   District   Male  Female  Third Gender  Total\n",
       "47  Mustang   4010       0             0   8263\n",
       "44   Manang   2496    2599             0   5095\n",
       "21    Dolpa   8283    8420             0  16703\n",
       "25    Humla  12696   11866             0  24562\n",
       "46     Mugu  14375   13060             0  27435"
      ]
     },
     "execution_count": 282,
     "metadata": {},
     "output_type": "execute_result"
    }
   ],
   "source": [
    "df.sort_values(by=[\"Female\"]).head()"
   ]
  },
  {
   "cell_type": "code",
   "execution_count": 283,
   "id": "7d0a8045",
   "metadata": {},
   "outputs": [
    {
     "data": {
      "text/html": [
       "<div>\n",
       "<style scoped>\n",
       "    .dataframe tbody tr th:only-of-type {\n",
       "        vertical-align: middle;\n",
       "    }\n",
       "\n",
       "    .dataframe tbody tr th {\n",
       "        vertical-align: top;\n",
       "    }\n",
       "\n",
       "    .dataframe thead th {\n",
       "        text-align: right;\n",
       "    }\n",
       "</style>\n",
       "<table border=\"1\" class=\"dataframe\">\n",
       "  <thead>\n",
       "    <tr style=\"text-align: right;\">\n",
       "      <th></th>\n",
       "      <th>District</th>\n",
       "      <th>Male</th>\n",
       "      <th>Female</th>\n",
       "      <th>Third Gender</th>\n",
       "      <th>Total</th>\n",
       "    </tr>\n",
       "  </thead>\n",
       "  <tbody>\n",
       "    <tr>\n",
       "      <th>24</th>\n",
       "      <td>Gulmi</td>\n",
       "      <td>0</td>\n",
       "      <td>94759</td>\n",
       "      <td>1</td>\n",
       "      <td>180775</td>\n",
       "    </tr>\n",
       "    <tr>\n",
       "      <th>44</th>\n",
       "      <td>Manang</td>\n",
       "      <td>2496</td>\n",
       "      <td>2599</td>\n",
       "      <td>0</td>\n",
       "      <td>5095</td>\n",
       "    </tr>\n",
       "    <tr>\n",
       "      <th>47</th>\n",
       "      <td>Mustang</td>\n",
       "      <td>4010</td>\n",
       "      <td>0</td>\n",
       "      <td>0</td>\n",
       "      <td>8263</td>\n",
       "    </tr>\n",
       "    <tr>\n",
       "      <th>21</th>\n",
       "      <td>Dolpa</td>\n",
       "      <td>8283</td>\n",
       "      <td>8420</td>\n",
       "      <td>0</td>\n",
       "      <td>16703</td>\n",
       "    </tr>\n",
       "    <tr>\n",
       "      <th>25</th>\n",
       "      <td>Humla</td>\n",
       "      <td>12696</td>\n",
       "      <td>11866</td>\n",
       "      <td>0</td>\n",
       "      <td>24562</td>\n",
       "    </tr>\n",
       "  </tbody>\n",
       "</table>\n",
       "</div>"
      ],
      "text/plain": [
       "   District   Male  Female  Third Gender   Total\n",
       "24    Gulmi      0   94759             1  180775\n",
       "44   Manang   2496    2599             0    5095\n",
       "47  Mustang   4010       0             0    8263\n",
       "21    Dolpa   8283    8420             0   16703\n",
       "25    Humla  12696   11866             0   24562"
      ]
     },
     "execution_count": 283,
     "metadata": {},
     "output_type": "execute_result"
    }
   ],
   "source": [
    "df.sort_values(by=[\"Male\"]).head()"
   ]
  },
  {
   "cell_type": "code",
   "execution_count": 284,
   "id": "cb36b72e",
   "metadata": {},
   "outputs": [],
   "source": [
    "df.loc[24]=[\"Gulmi\",(180775-94759-1),94759,1,180775]"
   ]
  },
  {
   "cell_type": "code",
   "execution_count": 285,
   "id": "23e7a7d7",
   "metadata": {},
   "outputs": [
    {
     "data": {
      "text/html": [
       "<div>\n",
       "<style scoped>\n",
       "    .dataframe tbody tr th:only-of-type {\n",
       "        vertical-align: middle;\n",
       "    }\n",
       "\n",
       "    .dataframe tbody tr th {\n",
       "        vertical-align: top;\n",
       "    }\n",
       "\n",
       "    .dataframe thead th {\n",
       "        text-align: right;\n",
       "    }\n",
       "</style>\n",
       "<table border=\"1\" class=\"dataframe\">\n",
       "  <thead>\n",
       "    <tr style=\"text-align: right;\">\n",
       "      <th></th>\n",
       "      <th>District</th>\n",
       "      <th>Male</th>\n",
       "      <th>Female</th>\n",
       "      <th>Third Gender</th>\n",
       "      <th>Total</th>\n",
       "    </tr>\n",
       "  </thead>\n",
       "  <tbody>\n",
       "    <tr>\n",
       "      <th>44</th>\n",
       "      <td>Manang</td>\n",
       "      <td>2496</td>\n",
       "      <td>2599</td>\n",
       "      <td>0</td>\n",
       "      <td>5095</td>\n",
       "    </tr>\n",
       "    <tr>\n",
       "      <th>47</th>\n",
       "      <td>Mustang</td>\n",
       "      <td>4010</td>\n",
       "      <td>0</td>\n",
       "      <td>0</td>\n",
       "      <td>8263</td>\n",
       "    </tr>\n",
       "    <tr>\n",
       "      <th>21</th>\n",
       "      <td>Dolpa</td>\n",
       "      <td>8283</td>\n",
       "      <td>8420</td>\n",
       "      <td>0</td>\n",
       "      <td>16703</td>\n",
       "    </tr>\n",
       "    <tr>\n",
       "      <th>25</th>\n",
       "      <td>Humla</td>\n",
       "      <td>12696</td>\n",
       "      <td>11866</td>\n",
       "      <td>0</td>\n",
       "      <td>24562</td>\n",
       "    </tr>\n",
       "    <tr>\n",
       "      <th>59</th>\n",
       "      <td>Rasuwa</td>\n",
       "      <td>13965</td>\n",
       "      <td>13791</td>\n",
       "      <td>0</td>\n",
       "      <td>27756</td>\n",
       "    </tr>\n",
       "  </tbody>\n",
       "</table>\n",
       "</div>"
      ],
      "text/plain": [
       "   District   Male  Female  Third Gender  Total\n",
       "44   Manang   2496    2599             0   5095\n",
       "47  Mustang   4010       0             0   8263\n",
       "21    Dolpa   8283    8420             0  16703\n",
       "25    Humla  12696   11866             0  24562\n",
       "59   Rasuwa  13965   13791             0  27756"
      ]
     },
     "execution_count": 285,
     "metadata": {},
     "output_type": "execute_result"
    }
   ],
   "source": [
    "df.sort_values(by=[\"Male\"]).head()"
   ]
  },
  {
   "cell_type": "code",
   "execution_count": 286,
   "id": "788a3d73",
   "metadata": {},
   "outputs": [
    {
     "data": {
      "text/html": [
       "<div>\n",
       "<style scoped>\n",
       "    .dataframe tbody tr th:only-of-type {\n",
       "        vertical-align: middle;\n",
       "    }\n",
       "\n",
       "    .dataframe tbody tr th {\n",
       "        vertical-align: top;\n",
       "    }\n",
       "\n",
       "    .dataframe thead th {\n",
       "        text-align: right;\n",
       "    }\n",
       "</style>\n",
       "<table border=\"1\" class=\"dataframe\">\n",
       "  <thead>\n",
       "    <tr style=\"text-align: right;\">\n",
       "      <th></th>\n",
       "      <th>District</th>\n",
       "      <th>Male</th>\n",
       "      <th>Female</th>\n",
       "      <th>Third Gender</th>\n",
       "      <th>Total</th>\n",
       "    </tr>\n",
       "  </thead>\n",
       "  <tbody>\n",
       "    <tr>\n",
       "      <th>47</th>\n",
       "      <td>Mustang</td>\n",
       "      <td>4010</td>\n",
       "      <td>0</td>\n",
       "      <td>0</td>\n",
       "      <td>8263</td>\n",
       "    </tr>\n",
       "    <tr>\n",
       "      <th>44</th>\n",
       "      <td>Manang</td>\n",
       "      <td>2496</td>\n",
       "      <td>2599</td>\n",
       "      <td>0</td>\n",
       "      <td>5095</td>\n",
       "    </tr>\n",
       "    <tr>\n",
       "      <th>21</th>\n",
       "      <td>Dolpa</td>\n",
       "      <td>8283</td>\n",
       "      <td>8420</td>\n",
       "      <td>0</td>\n",
       "      <td>16703</td>\n",
       "    </tr>\n",
       "    <tr>\n",
       "      <th>25</th>\n",
       "      <td>Humla</td>\n",
       "      <td>12696</td>\n",
       "      <td>11866</td>\n",
       "      <td>0</td>\n",
       "      <td>24562</td>\n",
       "    </tr>\n",
       "    <tr>\n",
       "      <th>46</th>\n",
       "      <td>Mugu</td>\n",
       "      <td>14375</td>\n",
       "      <td>13060</td>\n",
       "      <td>0</td>\n",
       "      <td>27435</td>\n",
       "    </tr>\n",
       "  </tbody>\n",
       "</table>\n",
       "</div>"
      ],
      "text/plain": [
       "   District   Male  Female  Third Gender  Total\n",
       "47  Mustang   4010       0             0   8263\n",
       "44   Manang   2496    2599             0   5095\n",
       "21    Dolpa   8283    8420             0  16703\n",
       "25    Humla  12696   11866             0  24562\n",
       "46     Mugu  14375   13060             0  27435"
      ]
     },
     "execution_count": 286,
     "metadata": {},
     "output_type": "execute_result"
    }
   ],
   "source": [
    "df.sort_values(by=[\"Female\"]).head()"
   ]
  },
  {
   "cell_type": "code",
   "execution_count": 287,
   "id": "71e5c16c",
   "metadata": {},
   "outputs": [],
   "source": [
    "df.loc[47]=[\"Mustang\",4010,(8263-4010),0,8263]"
   ]
  },
  {
   "cell_type": "code",
   "execution_count": 288,
   "id": "338fccf4",
   "metadata": {},
   "outputs": [
    {
     "data": {
      "text/plain": [
       "District        Mustang\n",
       "Male               4010\n",
       "Female             4253\n",
       "Third Gender          0\n",
       "Total              8263\n",
       "Name: 47, dtype: object"
      ]
     },
     "execution_count": 288,
     "metadata": {},
     "output_type": "execute_result"
    }
   ],
   "source": [
    "df.loc[47]"
   ]
  },
  {
   "cell_type": "code",
   "execution_count": 289,
   "id": "4324b826",
   "metadata": {},
   "outputs": [],
   "source": [
    "df['Total'] = pd.to_numeric(df['Total']) #Total was type object "
   ]
  },
  {
   "cell_type": "code",
   "execution_count": 291,
   "id": "17d5af92",
   "metadata": {},
   "outputs": [
    {
     "data": {
      "text/plain": [
       "District        object\n",
       "Male             int64\n",
       "Female           int64\n",
       "Third Gender     int64\n",
       "Total            int64\n",
       "dtype: object"
      ]
     },
     "execution_count": 291,
     "metadata": {},
     "output_type": "execute_result"
    }
   ],
   "source": [
    "df.dtypes"
   ]
  },
  {
   "cell_type": "code",
   "execution_count": 293,
   "id": "8e477cb5",
   "metadata": {},
   "outputs": [
    {
     "data": {
      "text/html": [
       "<div>\n",
       "<style scoped>\n",
       "    .dataframe tbody tr th:only-of-type {\n",
       "        vertical-align: middle;\n",
       "    }\n",
       "\n",
       "    .dataframe tbody tr th {\n",
       "        vertical-align: top;\n",
       "    }\n",
       "\n",
       "    .dataframe thead th {\n",
       "        text-align: right;\n",
       "    }\n",
       "</style>\n",
       "<table border=\"1\" class=\"dataframe\">\n",
       "  <thead>\n",
       "    <tr style=\"text-align: right;\">\n",
       "      <th></th>\n",
       "      <th>District</th>\n",
       "      <th>Male</th>\n",
       "      <th>Female</th>\n",
       "      <th>Third Gender</th>\n",
       "      <th>Total</th>\n",
       "    </tr>\n",
       "  </thead>\n",
       "  <tbody>\n",
       "    <tr>\n",
       "      <th>15</th>\n",
       "      <td>Tanahu</td>\n",
       "      <td>90144</td>\n",
       "      <td>3104327</td>\n",
       "      <td>0</td>\n",
       "      <td>194471</td>\n",
       "    </tr>\n",
       "    <tr>\n",
       "      <th>33</th>\n",
       "      <td>Kalikot</td>\n",
       "      <td>31668</td>\n",
       "      <td>293360</td>\n",
       "      <td>0</td>\n",
       "      <td>61028</td>\n",
       "    </tr>\n",
       "    <tr>\n",
       "      <th>49</th>\n",
       "      <td>Nawalparasi (East)</td>\n",
       "      <td>682596</td>\n",
       "      <td>68584</td>\n",
       "      <td>1</td>\n",
       "      <td>131181</td>\n",
       "    </tr>\n",
       "    <tr>\n",
       "      <th>50</th>\n",
       "      <td>Nawalparasi (East)</td>\n",
       "      <td>80316</td>\n",
       "      <td>89570</td>\n",
       "      <td>4</td>\n",
       "      <td>2212111</td>\n",
       "    </tr>\n",
       "    <tr>\n",
       "      <th>55</th>\n",
       "      <td>Parbat</td>\n",
       "      <td>47354</td>\n",
       "      <td>51889</td>\n",
       "      <td>0</td>\n",
       "      <td>99</td>\n",
       "    </tr>\n",
       "    <tr>\n",
       "      <th>75</th>\n",
       "      <td>Tanahu</td>\n",
       "      <td>90144</td>\n",
       "      <td>3104327</td>\n",
       "      <td>0</td>\n",
       "      <td>194471</td>\n",
       "    </tr>\n",
       "  </tbody>\n",
       "</table>\n",
       "</div>"
      ],
      "text/plain": [
       "              District    Male   Female  Third Gender    Total\n",
       "15              Tanahu   90144  3104327             0   194471\n",
       "33             Kalikot   31668   293360             0    61028\n",
       "49  Nawalparasi (East)  682596    68584             1   131181\n",
       "50  Nawalparasi (East)   80316    89570             4  2212111\n",
       "55              Parbat   47354    51889             0       99\n",
       "75              Tanahu   90144  3104327             0   194471"
      ]
     },
     "execution_count": 293,
     "metadata": {},
     "output_type": "execute_result"
    }
   ],
   "source": [
    "df.loc[df[\"Male\"]+df[\"Female\"]+df[\"Third Gender\"]!=df[\"Total\"]]"
   ]
  },
  {
   "cell_type": "code",
   "execution_count": 294,
   "id": "604b386e",
   "metadata": {},
   "outputs": [],
   "source": [
    "df.loc[50]=[\"Nawalparasi (West)\",80316,89570,4,(80316+89570+4)]"
   ]
  },
  {
   "cell_type": "code",
   "execution_count": 295,
   "id": "318ed08f",
   "metadata": {},
   "outputs": [],
   "source": [
    "df.loc[49]=[\"Nawalparasi (East)\",131181-1-68584,68584,1,131181]"
   ]
  },
  {
   "cell_type": "code",
   "execution_count": 296,
   "id": "f64fdd73",
   "metadata": {},
   "outputs": [],
   "source": [
    "df.loc[15]=[\"Tanahu\",90144,194471-90144,0,194471]"
   ]
  },
  {
   "cell_type": "code",
   "execution_count": 297,
   "id": "937f4b80",
   "metadata": {},
   "outputs": [],
   "source": [
    "df.loc[33]=[\"Kalikot\",31668,61028-31668,0,61028]"
   ]
  },
  {
   "cell_type": "code",
   "execution_count": 298,
   "id": "cae73774",
   "metadata": {},
   "outputs": [],
   "source": [
    "df.loc[55]=[\"Parbat\",47354,51889,0,47354+51889]"
   ]
  },
  {
   "cell_type": "code",
   "execution_count": 299,
   "id": "0697af9a",
   "metadata": {},
   "outputs": [
    {
     "data": {
      "text/html": [
       "<div>\n",
       "<style scoped>\n",
       "    .dataframe tbody tr th:only-of-type {\n",
       "        vertical-align: middle;\n",
       "    }\n",
       "\n",
       "    .dataframe tbody tr th {\n",
       "        vertical-align: top;\n",
       "    }\n",
       "\n",
       "    .dataframe thead th {\n",
       "        text-align: right;\n",
       "    }\n",
       "</style>\n",
       "<table border=\"1\" class=\"dataframe\">\n",
       "  <thead>\n",
       "    <tr style=\"text-align: right;\">\n",
       "      <th></th>\n",
       "      <th>District</th>\n",
       "      <th>Male</th>\n",
       "      <th>Female</th>\n",
       "      <th>Third Gender</th>\n",
       "      <th>Total</th>\n",
       "    </tr>\n",
       "  </thead>\n",
       "  <tbody>\n",
       "    <tr>\n",
       "      <th>75</th>\n",
       "      <td>Tanahu</td>\n",
       "      <td>90144</td>\n",
       "      <td>3104327</td>\n",
       "      <td>0</td>\n",
       "      <td>194471</td>\n",
       "    </tr>\n",
       "  </tbody>\n",
       "</table>\n",
       "</div>"
      ],
      "text/plain": [
       "   District   Male   Female  Third Gender   Total\n",
       "75   Tanahu  90144  3104327             0  194471"
      ]
     },
     "execution_count": 299,
     "metadata": {},
     "output_type": "execute_result"
    }
   ],
   "source": [
    "df.loc[df[\"Male\"]+df[\"Female\"]+df[\"Third Gender\"]!=df[\"Total\"]]"
   ]
  },
  {
   "cell_type": "code",
   "execution_count": 305,
   "id": "9e1812c8",
   "metadata": {},
   "outputs": [],
   "source": [
    "df=df.drop(75)"
   ]
  },
  {
   "cell_type": "code",
   "execution_count": 307,
   "id": "ba17c417",
   "metadata": {},
   "outputs": [
    {
     "data": {
      "text/html": [
       "<div>\n",
       "<style scoped>\n",
       "    .dataframe tbody tr th:only-of-type {\n",
       "        vertical-align: middle;\n",
       "    }\n",
       "\n",
       "    .dataframe tbody tr th {\n",
       "        vertical-align: top;\n",
       "    }\n",
       "\n",
       "    .dataframe thead th {\n",
       "        text-align: right;\n",
       "    }\n",
       "</style>\n",
       "<table border=\"1\" class=\"dataframe\">\n",
       "  <thead>\n",
       "    <tr style=\"text-align: right;\">\n",
       "      <th></th>\n",
       "      <th>District</th>\n",
       "      <th>Male</th>\n",
       "      <th>Female</th>\n",
       "      <th>Third Gender</th>\n",
       "      <th>Total</th>\n",
       "    </tr>\n",
       "  </thead>\n",
       "  <tbody>\n",
       "    <tr>\n",
       "      <th>74</th>\n",
       "      <td>Syangja</td>\n",
       "      <td>89544</td>\n",
       "      <td>101708</td>\n",
       "      <td>1</td>\n",
       "      <td>191253</td>\n",
       "    </tr>\n",
       "    <tr>\n",
       "      <th>76</th>\n",
       "      <td>Taplejung</td>\n",
       "      <td>37187</td>\n",
       "      <td>33591</td>\n",
       "      <td>0</td>\n",
       "      <td>70778</td>\n",
       "    </tr>\n",
       "    <tr>\n",
       "      <th>77</th>\n",
       "      <td>Terhathum</td>\n",
       "      <td>30334</td>\n",
       "      <td>30370</td>\n",
       "      <td>0</td>\n",
       "      <td>60704</td>\n",
       "    </tr>\n",
       "    <tr>\n",
       "      <th>78</th>\n",
       "      <td>Udayapur</td>\n",
       "      <td>88510</td>\n",
       "      <td>86951</td>\n",
       "      <td>0</td>\n",
       "      <td>175461</td>\n",
       "    </tr>\n",
       "    <tr>\n",
       "      <th>79</th>\n",
       "      <td>Total</td>\n",
       "      <td>7069714</td>\n",
       "      <td>6984625</td>\n",
       "      <td>143</td>\n",
       "      <td>14054482</td>\n",
       "    </tr>\n",
       "  </tbody>\n",
       "</table>\n",
       "</div>"
      ],
      "text/plain": [
       "     District     Male   Female  Third Gender     Total\n",
       "74    Syangja    89544   101708             1    191253\n",
       "76  Taplejung    37187    33591             0     70778\n",
       "77  Terhathum    30334    30370             0     60704\n",
       "78   Udayapur    88510    86951             0    175461\n",
       "79      Total  7069714  6984625           143  14054482"
      ]
     },
     "execution_count": 307,
     "metadata": {},
     "output_type": "execute_result"
    }
   ],
   "source": [
    "df.tail()"
   ]
  },
  {
   "cell_type": "code",
   "execution_count": 308,
   "id": "65d826ad",
   "metadata": {},
   "outputs": [],
   "source": [
    "df=df.drop(79)"
   ]
  },
  {
   "cell_type": "code",
   "execution_count": 309,
   "id": "5e7a3518",
   "metadata": {},
   "outputs": [
    {
     "data": {
      "text/html": [
       "<div>\n",
       "<style scoped>\n",
       "    .dataframe tbody tr th:only-of-type {\n",
       "        vertical-align: middle;\n",
       "    }\n",
       "\n",
       "    .dataframe tbody tr th {\n",
       "        vertical-align: top;\n",
       "    }\n",
       "\n",
       "    .dataframe thead th {\n",
       "        text-align: right;\n",
       "    }\n",
       "</style>\n",
       "<table border=\"1\" class=\"dataframe\">\n",
       "  <thead>\n",
       "    <tr style=\"text-align: right;\">\n",
       "      <th></th>\n",
       "      <th>District</th>\n",
       "      <th>Male</th>\n",
       "      <th>Female</th>\n",
       "      <th>Third Gender</th>\n",
       "      <th>Total</th>\n",
       "    </tr>\n",
       "  </thead>\n",
       "  <tbody>\n",
       "    <tr>\n",
       "      <th>73</th>\n",
       "      <td>Surkhet</td>\n",
       "      <td>89268</td>\n",
       "      <td>95131</td>\n",
       "      <td>0</td>\n",
       "      <td>184399</td>\n",
       "    </tr>\n",
       "    <tr>\n",
       "      <th>74</th>\n",
       "      <td>Syangja</td>\n",
       "      <td>89544</td>\n",
       "      <td>101708</td>\n",
       "      <td>1</td>\n",
       "      <td>191253</td>\n",
       "    </tr>\n",
       "    <tr>\n",
       "      <th>76</th>\n",
       "      <td>Taplejung</td>\n",
       "      <td>37187</td>\n",
       "      <td>33591</td>\n",
       "      <td>0</td>\n",
       "      <td>70778</td>\n",
       "    </tr>\n",
       "    <tr>\n",
       "      <th>77</th>\n",
       "      <td>Terhathum</td>\n",
       "      <td>30334</td>\n",
       "      <td>30370</td>\n",
       "      <td>0</td>\n",
       "      <td>60704</td>\n",
       "    </tr>\n",
       "    <tr>\n",
       "      <th>78</th>\n",
       "      <td>Udayapur</td>\n",
       "      <td>88510</td>\n",
       "      <td>86951</td>\n",
       "      <td>0</td>\n",
       "      <td>175461</td>\n",
       "    </tr>\n",
       "  </tbody>\n",
       "</table>\n",
       "</div>"
      ],
      "text/plain": [
       "     District   Male  Female  Third Gender   Total\n",
       "73    Surkhet  89268   95131             0  184399\n",
       "74    Syangja  89544  101708             1  191253\n",
       "76  Taplejung  37187   33591             0   70778\n",
       "77  Terhathum  30334   30370             0   60704\n",
       "78   Udayapur  88510   86951             0  175461"
      ]
     },
     "execution_count": 309,
     "metadata": {},
     "output_type": "execute_result"
    }
   ],
   "source": [
    "df.tail()"
   ]
  },
  {
   "cell_type": "code",
   "execution_count": 310,
   "id": "3ec9baa7",
   "metadata": {},
   "outputs": [
    {
     "data": {
      "text/plain": [
       "<AxesSubplot: xlabel='District'>"
      ]
     },
     "execution_count": 310,
     "metadata": {},
     "output_type": "execute_result"
    },
    {
     "data": {
      "image/png": "[encoded data removed]",
      "text/plain": [
       "<Figure size 640x480 with 1 Axes>"
      ]
     },
     "metadata": {},
     "output_type": "display_data"
    }
   ],
   "source": [
    "df.nlargest(10, 'Total').plot(kind='bar', x='District')\n"
   ]
  },
  {
   "cell_type": "code",
   "execution_count": 311,
   "id": "b7277d3f",
   "metadata": {},
   "outputs": [
    {
     "data": {
      "text/plain": [
       "<AxesSubplot: xlabel='District'>"
      ]
     },
     "execution_count": 311,
     "metadata": {},
     "output_type": "execute_result"
    },
    {
     "data": {
      "image/png": "[encoded data removed]",
      "text/plain": [
       "<Figure size 640x480 with 1 Axes>"
      ]
     },
     "metadata": {},
     "output_type": "display_data"
    }
   ],
   "source": [
    "df.nsmallest(10, 'Total').plot(kind='bar', x='District')\n"
   ]
  },
  {
   "cell_type": "code",
   "execution_count": 312,
   "id": "5b74ebaa",
   "metadata": {},
   "outputs": [
    {
     "data": {
      "image/png": "[encoded data removed]",
      "text/plain": [
       "<Figure size 640x480 with 1 Axes>"
      ]
     },
     "metadata": {},
     "output_type": "display_data"
    }
   ],
   "source": [
    "nlrg=df.nlargest(10,'Total')\n",
    "plt.pie(x=nlrg['Total'],labels=nlrg['District'],autopct='%1.1f%%')\n",
    "plt.axis('equal')\n",
    "plt.show()"
   ]
  },
  {
   "cell_type": "code",
   "execution_count": 314,
   "id": "d1a50943",
   "metadata": {},
   "outputs": [
    {
     "data": {
      "image/png": "[encoded data removed]",
      "text/plain": [
       "<Figure size 640x480 with 1 Axes>"
      ]
     },
     "metadata": {},
     "output_type": "display_data"
    }
   ],
   "source": [
    "nsmall=df.nsmallest(10,'Total')\n",
    "plt.pie(x=nsmall['Total'],labels=nlrg['District'],autopct='%1.1f%%')\n",
    "plt.axis('equal')\n",
    "plt.show()"
   ]
  },
  {
   "cell_type": "code",
   "execution_count": 313,
   "id": "335bed99",
   "metadata": {
    "scrolled": true
   },
   "outputs": [
    {
     "data": {
      "image/png": "[encoded data removed]",
      "text/plain": [
       "<Figure size 640x480 with 1 Axes>"
      ]
     },
     "metadata": {},
     "output_type": "display_data"
    }
   ],
   "source": [
    "nslmallf=df.nsmallest(10,'Female')\n",
    "plt.pie(x=nslmallf['Female'],labels=nslammf['District'],autopct='%1.1f%%')\n",
    "plt.axis('equal')\n",
    "plt.show()"
   ]
  },
  {
   "cell_type": "code",
   "execution_count": 315,
   "id": "5086b3d9",
   "metadata": {},
   "outputs": [],
   "source": [
    "df[\"MaleIsToFemale\"]=df[\"Male\"]/df[\"Female\"]"
   ]
  },
  {
   "cell_type": "code",
   "execution_count": 317,
   "id": "1c77cd4b",
   "metadata": {},
   "outputs": [
    {
     "data": {
      "text/html": [
       "<div>\n",
       "<style scoped>\n",
       "    .dataframe tbody tr th:only-of-type {\n",
       "        vertical-align: middle;\n",
       "    }\n",
       "\n",
       "    .dataframe tbody tr th {\n",
       "        vertical-align: top;\n",
       "    }\n",
       "\n",
       "    .dataframe thead th {\n",
       "        text-align: right;\n",
       "    }\n",
       "</style>\n",
       "<table border=\"1\" class=\"dataframe\">\n",
       "  <thead>\n",
       "    <tr style=\"text-align: right;\">\n",
       "      <th></th>\n",
       "      <th>District</th>\n",
       "      <th>Male</th>\n",
       "      <th>Female</th>\n",
       "      <th>Third Gender</th>\n",
       "      <th>Total</th>\n",
       "      <th>MaleIsToFemale</th>\n",
       "    </tr>\n",
       "  </thead>\n",
       "  <tbody>\n",
       "    <tr>\n",
       "      <th>0</th>\n",
       "      <td>Achham</td>\n",
       "      <td>60441</td>\n",
       "      <td>67299</td>\n",
       "      <td>2</td>\n",
       "      <td>127742</td>\n",
       "      <td>0.898097</td>\n",
       "    </tr>\n",
       "    <tr>\n",
       "      <th>1</th>\n",
       "      <td>Arghakhanchi</td>\n",
       "      <td>60296</td>\n",
       "      <td>66403</td>\n",
       "      <td>0</td>\n",
       "      <td>126699</td>\n",
       "      <td>0.908031</td>\n",
       "    </tr>\n",
       "    <tr>\n",
       "      <th>2</th>\n",
       "      <td>Baglung</td>\n",
       "      <td>73963</td>\n",
       "      <td>82839</td>\n",
       "      <td>0</td>\n",
       "      <td>156802</td>\n",
       "      <td>0.892852</td>\n",
       "    </tr>\n",
       "    <tr>\n",
       "      <th>3</th>\n",
       "      <td>Baitadi</td>\n",
       "      <td>60227</td>\n",
       "      <td>64596</td>\n",
       "      <td>1</td>\n",
       "      <td>124824</td>\n",
       "      <td>0.932364</td>\n",
       "    </tr>\n",
       "    <tr>\n",
       "      <th>4</th>\n",
       "      <td>Bajhang</td>\n",
       "      <td>47888</td>\n",
       "      <td>49721</td>\n",
       "      <td>1</td>\n",
       "      <td>97610</td>\n",
       "      <td>0.963134</td>\n",
       "    </tr>\n",
       "  </tbody>\n",
       "</table>\n",
       "</div>"
      ],
      "text/plain": [
       "       District   Male  Female  Third Gender   Total  MaleIsToFemale\n",
       "0        Achham  60441   67299             2  127742        0.898097\n",
       "1  Arghakhanchi  60296   66403             0  126699        0.908031\n",
       "2       Baglung  73963   82839             0  156802        0.892852\n",
       "3       Baitadi  60227   64596             1  124824        0.932364\n",
       "4       Bajhang  47888   49721             1   97610        0.963134"
      ]
     },
     "execution_count": 317,
     "metadata": {},
     "output_type": "execute_result"
    }
   ],
   "source": [
    "df.head()"
   ]
  },
  {
   "cell_type": "code",
   "execution_count": 318,
   "id": "5428ee3a",
   "metadata": {},
   "outputs": [
    {
     "data": {
      "text/html": [
       "<div>\n",
       "<style scoped>\n",
       "    .dataframe tbody tr th:only-of-type {\n",
       "        vertical-align: middle;\n",
       "    }\n",
       "\n",
       "    .dataframe tbody tr th {\n",
       "        vertical-align: top;\n",
       "    }\n",
       "\n",
       "    .dataframe thead th {\n",
       "        text-align: right;\n",
       "    }\n",
       "</style>\n",
       "<table border=\"1\" class=\"dataframe\">\n",
       "  <thead>\n",
       "    <tr style=\"text-align: right;\">\n",
       "      <th></th>\n",
       "      <th>District</th>\n",
       "      <th>Male</th>\n",
       "      <th>Female</th>\n",
       "      <th>Third Gender</th>\n",
       "      <th>Total</th>\n",
       "      <th>MaleIsToFemale</th>\n",
       "    </tr>\n",
       "  </thead>\n",
       "  <tbody>\n",
       "    <tr>\n",
       "      <th>67</th>\n",
       "      <td>Sarlahi</td>\n",
       "      <td>198066</td>\n",
       "      <td>168534</td>\n",
       "      <td>5</td>\n",
       "      <td>366605</td>\n",
       "      <td>1.175229</td>\n",
       "    </tr>\n",
       "    <tr>\n",
       "      <th>60</th>\n",
       "      <td>Rautahat</td>\n",
       "      <td>176498</td>\n",
       "      <td>146952</td>\n",
       "      <td>0</td>\n",
       "      <td>323450</td>\n",
       "      <td>1.201059</td>\n",
       "    </tr>\n",
       "    <tr>\n",
       "      <th>35</th>\n",
       "      <td>Kapilbastu</td>\n",
       "      <td>156606</td>\n",
       "      <td>129940</td>\n",
       "      <td>2</td>\n",
       "      <td>286548</td>\n",
       "      <td>1.205218</td>\n",
       "    </tr>\n",
       "    <tr>\n",
       "      <th>7</th>\n",
       "      <td>Bara</td>\n",
       "      <td>183784</td>\n",
       "      <td>149884</td>\n",
       "      <td>10</td>\n",
       "      <td>333678</td>\n",
       "      <td>1.226175</td>\n",
       "    </tr>\n",
       "    <tr>\n",
       "      <th>56</th>\n",
       "      <td>Parsa</td>\n",
       "      <td>159286</td>\n",
       "      <td>120910</td>\n",
       "      <td>15</td>\n",
       "      <td>280211</td>\n",
       "      <td>1.317393</td>\n",
       "    </tr>\n",
       "  </tbody>\n",
       "</table>\n",
       "</div>"
      ],
      "text/plain": [
       "      District    Male  Female  Third Gender   Total  MaleIsToFemale\n",
       "67     Sarlahi  198066  168534             5  366605        1.175229\n",
       "60    Rautahat  176498  146952             0  323450        1.201059\n",
       "35  Kapilbastu  156606  129940             2  286548        1.205218\n",
       "7         Bara  183784  149884            10  333678        1.226175\n",
       "56       Parsa  159286  120910            15  280211        1.317393"
      ]
     },
     "execution_count": 318,
     "metadata": {},
     "output_type": "execute_result"
    }
   ],
   "source": [
    "df.sort_values(by=[\"MaleIsToFemale\"]).tail()"
   ]
  },
  {
   "cell_type": "code",
   "execution_count": 319,
   "id": "0f65d6e6",
   "metadata": {},
   "outputs": [
    {
     "data": {
      "text/html": [
       "<div>\n",
       "<style scoped>\n",
       "    .dataframe tbody tr th:only-of-type {\n",
       "        vertical-align: middle;\n",
       "    }\n",
       "\n",
       "    .dataframe tbody tr th {\n",
       "        vertical-align: top;\n",
       "    }\n",
       "\n",
       "    .dataframe thead th {\n",
       "        text-align: right;\n",
       "    }\n",
       "</style>\n",
       "<table border=\"1\" class=\"dataframe\">\n",
       "  <thead>\n",
       "    <tr style=\"text-align: right;\">\n",
       "      <th></th>\n",
       "      <th>District</th>\n",
       "      <th>Male</th>\n",
       "      <th>Female</th>\n",
       "      <th>Third Gender</th>\n",
       "      <th>Total</th>\n",
       "      <th>MaleIsToFemale</th>\n",
       "    </tr>\n",
       "  </thead>\n",
       "  <tbody>\n",
       "    <tr>\n",
       "      <th>22</th>\n",
       "      <td>Doti</td>\n",
       "      <td>46098</td>\n",
       "      <td>54789</td>\n",
       "      <td>0</td>\n",
       "      <td>100887</td>\n",
       "      <td>0.841373</td>\n",
       "    </tr>\n",
       "    <tr>\n",
       "      <th>15</th>\n",
       "      <td>Tanahu</td>\n",
       "      <td>90144</td>\n",
       "      <td>104327</td>\n",
       "      <td>0</td>\n",
       "      <td>194471</td>\n",
       "      <td>0.864052</td>\n",
       "    </tr>\n",
       "    <tr>\n",
       "      <th>36</th>\n",
       "      <td>Kaski</td>\n",
       "      <td>104576</td>\n",
       "      <td>120230</td>\n",
       "      <td>5</td>\n",
       "      <td>224811</td>\n",
       "      <td>0.869800</td>\n",
       "    </tr>\n",
       "    <tr>\n",
       "      <th>74</th>\n",
       "      <td>Syangja</td>\n",
       "      <td>89544</td>\n",
       "      <td>101708</td>\n",
       "      <td>1</td>\n",
       "      <td>191253</td>\n",
       "      <td>0.880403</td>\n",
       "    </tr>\n",
       "    <tr>\n",
       "      <th>57</th>\n",
       "      <td>Pyuthan</td>\n",
       "      <td>60036</td>\n",
       "      <td>67410</td>\n",
       "      <td>1</td>\n",
       "      <td>127447</td>\n",
       "      <td>0.890610</td>\n",
       "    </tr>\n",
       "  </tbody>\n",
       "</table>\n",
       "</div>"
      ],
      "text/plain": [
       "   District    Male  Female  Third Gender   Total  MaleIsToFemale\n",
       "22     Doti   46098   54789             0  100887        0.841373\n",
       "15   Tanahu   90144  104327             0  194471        0.864052\n",
       "36    Kaski  104576  120230             5  224811        0.869800\n",
       "74  Syangja   89544  101708             1  191253        0.880403\n",
       "57  Pyuthan   60036   67410             1  127447        0.890610"
      ]
     },
     "execution_count": 319,
     "metadata": {},
     "output_type": "execute_result"
    }
   ],
   "source": [
    "df.sort_values(by=[\"MaleIsToFemale\"]).head()"
   ]
  }
 ],
 "metadata": {
  "kernelspec": {
   "display_name": "Python 3 (ipykernel)",
   "language": "python",
   "name": "python3"
  },
  "language_info": {
   "codemirror_mode": {
    "name": "ipython",
    "version": 3
   },
   "file_extension": ".py",
   "mimetype": "text/x-python",
   "name": "python",
   "nbconvert_exporter": "python",
   "pygments_lexer": "ipython3",
   "version": "3.10.6"
  }
 },
 "nbformat": 4,
 "nbformat_minor": 5
}
